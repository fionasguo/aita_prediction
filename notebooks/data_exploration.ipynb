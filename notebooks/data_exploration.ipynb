{
 "cells": [
  {
   "cell_type": "markdown",
   "id": "b8a4308e",
   "metadata": {},
   "source": [
    "**verdict: 0-3 for [NTA, YTA, ESH, NAH]**\n",
    "\n",
    "not the asshole; you're the asshole; everyone sucks here; no asshole here"
   ]
  },
  {
   "cell_type": "code",
   "execution_count": 2,
   "id": "036426f5",
   "metadata": {},
   "outputs": [],
   "source": [
    "import pandas as pd"
   ]
  },
  {
   "cell_type": "code",
   "execution_count": 3,
   "id": "edb32fa7",
   "metadata": {},
   "outputs": [
    {
     "data": {
      "text/html": [
       "<div>\n",
       "<style scoped>\n",
       "    .dataframe tbody tr th:only-of-type {\n",
       "        vertical-align: middle;\n",
       "    }\n",
       "\n",
       "    .dataframe tbody tr th {\n",
       "        vertical-align: top;\n",
       "    }\n",
       "\n",
       "    .dataframe thead th {\n",
       "        text-align: right;\n",
       "    }\n",
       "</style>\n",
       "<table border=\"1\" class=\"dataframe\">\n",
       "  <thead>\n",
       "    <tr style=\"text-align: right;\">\n",
       "      <th></th>\n",
       "      <th>post</th>\n",
       "      <th>story</th>\n",
       "      <th>top_comment</th>\n",
       "      <th>rand_comment</th>\n",
       "      <th>top_verdict</th>\n",
       "      <th>rand_verdict</th>\n",
       "    </tr>\n",
       "  </thead>\n",
       "  <tbody>\n",
       "    <tr>\n",
       "      <th>0</th>\n",
       "      <td>1ytxov</td>\n",
       "      <td>[Here is the post in question](http://www.redd...</td>\n",
       "      <td>There is nothing wrong with your original comm...</td>\n",
       "      <td>No I don't think so. All that went over my hea...</td>\n",
       "      <td>1</td>\n",
       "      <td>3</td>\n",
       "    </tr>\n",
       "    <tr>\n",
       "      <th>1</th>\n",
       "      <td>1yu29c</td>\n",
       "      <td>My parents are diabetic, morbidly obese, and a...</td>\n",
       "      <td>Yep.  You're the asshole.  If you want to make...</td>\n",
       "      <td>What? No man.</td>\n",
       "      <td>1</td>\n",
       "      <td>1</td>\n",
       "    </tr>\n",
       "    <tr>\n",
       "      <th>2</th>\n",
       "      <td>1yux10</td>\n",
       "      <td>His name is Scoop. \\n\\nOver the two years I ha...</td>\n",
       "      <td>Youre both the asshole. He is clearly an assho...</td>\n",
       "      <td>You're an asshole. Yeah, he's also an asshole,...</td>\n",
       "      <td>1</td>\n",
       "      <td>1</td>\n",
       "    </tr>\n",
       "    <tr>\n",
       "      <th>3</th>\n",
       "      <td>1yvl8z</td>\n",
       "      <td>Door to door sales person came to my door arou...</td>\n",
       "      <td>Not at all.  He's interrupting as many people ...</td>\n",
       "      <td>No.</td>\n",
       "      <td>0</td>\n",
       "      <td>0</td>\n",
       "    </tr>\n",
       "    <tr>\n",
       "      <th>4</th>\n",
       "      <td>1yx8vp</td>\n",
       "      <td>I don't get along with my in-laws very well. A...</td>\n",
       "      <td>Your wife was the asshole in this case. I know...</td>\n",
       "      <td>Wife = the asshole.</td>\n",
       "      <td>0</td>\n",
       "      <td>0</td>\n",
       "    </tr>\n",
       "    <tr>\n",
       "      <th>...</th>\n",
       "      <td>...</td>\n",
       "      <td>...</td>\n",
       "      <td>...</td>\n",
       "      <td>...</td>\n",
       "      <td>...</td>\n",
       "      <td>...</td>\n",
       "    </tr>\n",
       "    <tr>\n",
       "      <th>60733</th>\n",
       "      <td>ex8h37</td>\n",
       "      <td>I went to my cousin's wedding yesterday evenin...</td>\n",
       "      <td>NTA\\n\\nThere is no \"no black to a wedding\" rul...</td>\n",
       "      <td>NTA. And WTF is wrong with a black suit?</td>\n",
       "      <td>0</td>\n",
       "      <td>0</td>\n",
       "    </tr>\n",
       "    <tr>\n",
       "      <th>60734</th>\n",
       "      <td>ex8o5m</td>\n",
       "      <td>I was at the gym with two friends of mine toda...</td>\n",
       "      <td>NTA. They're being assholes and disgusting. Yo...</td>\n",
       "      <td>NTA, bud you have more restraint then I. I wou...</td>\n",
       "      <td>0</td>\n",
       "      <td>0</td>\n",
       "    </tr>\n",
       "    <tr>\n",
       "      <th>60735</th>\n",
       "      <td>ex8ys3</td>\n",
       "      <td>\\nI(46,M) have been helping my(17,F) daughter ...</td>\n",
       "      <td>YTA \\n\\n\\nYou need a large glass of grow the f...</td>\n",
       "      <td>Nta. Unpopular opinion but come on kiddo. Take...</td>\n",
       "      <td>1</td>\n",
       "      <td>0</td>\n",
       "    </tr>\n",
       "    <tr>\n",
       "      <th>60736</th>\n",
       "      <td>ex970f</td>\n",
       "      <td>My husband (28M) and I (32F) are married for a...</td>\n",
       "      <td>NTA I can’t even believe this is real it’s so ...</td>\n",
       "      <td>NTA\\n\\n\\nIt was fun the first time, he has now...</td>\n",
       "      <td>0</td>\n",
       "      <td>0</td>\n",
       "    </tr>\n",
       "    <tr>\n",
       "      <th>60737</th>\n",
       "      <td>ex9g78</td>\n",
       "      <td>I’m a (23F) apprentice in the trades. I work o...</td>\n",
       "      <td>Record it happening and let the internet deal ...</td>\n",
       "      <td>Absolutely NTA if you do it. But some advice -...</td>\n",
       "      <td>0</td>\n",
       "      <td>0</td>\n",
       "    </tr>\n",
       "  </tbody>\n",
       "</table>\n",
       "<p>60738 rows × 6 columns</p>\n",
       "</div>"
      ],
      "text/plain": [
       "         post                                              story  \\\n",
       "0      1ytxov  [Here is the post in question](http://www.redd...   \n",
       "1      1yu29c  My parents are diabetic, morbidly obese, and a...   \n",
       "2      1yux10  His name is Scoop. \\n\\nOver the two years I ha...   \n",
       "3      1yvl8z  Door to door sales person came to my door arou...   \n",
       "4      1yx8vp  I don't get along with my in-laws very well. A...   \n",
       "...       ...                                                ...   \n",
       "60733  ex8h37  I went to my cousin's wedding yesterday evenin...   \n",
       "60734  ex8o5m  I was at the gym with two friends of mine toda...   \n",
       "60735  ex8ys3  \\nI(46,M) have been helping my(17,F) daughter ...   \n",
       "60736  ex970f  My husband (28M) and I (32F) are married for a...   \n",
       "60737  ex9g78  I’m a (23F) apprentice in the trades. I work o...   \n",
       "\n",
       "                                             top_comment  \\\n",
       "0      There is nothing wrong with your original comm...   \n",
       "1      Yep.  You're the asshole.  If you want to make...   \n",
       "2      Youre both the asshole. He is clearly an assho...   \n",
       "3      Not at all.  He's interrupting as many people ...   \n",
       "4      Your wife was the asshole in this case. I know...   \n",
       "...                                                  ...   \n",
       "60733  NTA\\n\\nThere is no \"no black to a wedding\" rul...   \n",
       "60734  NTA. They're being assholes and disgusting. Yo...   \n",
       "60735  YTA \\n\\n\\nYou need a large glass of grow the f...   \n",
       "60736  NTA I can’t even believe this is real it’s so ...   \n",
       "60737  Record it happening and let the internet deal ...   \n",
       "\n",
       "                                            rand_comment  top_verdict  \\\n",
       "0      No I don't think so. All that went over my hea...            1   \n",
       "1                                          What? No man.            1   \n",
       "2      You're an asshole. Yeah, he's also an asshole,...            1   \n",
       "3                                                   No.             0   \n",
       "4                                    Wife = the asshole.            0   \n",
       "...                                                  ...          ...   \n",
       "60733           NTA. And WTF is wrong with a black suit?            0   \n",
       "60734  NTA, bud you have more restraint then I. I wou...            0   \n",
       "60735  Nta. Unpopular opinion but come on kiddo. Take...            1   \n",
       "60736  NTA\\n\\n\\nIt was fun the first time, he has now...            0   \n",
       "60737  Absolutely NTA if you do it. But some advice -...            0   \n",
       "\n",
       "       rand_verdict  \n",
       "0                 3  \n",
       "1                 1  \n",
       "2                 1  \n",
       "3                 0  \n",
       "4                 0  \n",
       "...             ...  \n",
       "60733             0  \n",
       "60734             0  \n",
       "60735             0  \n",
       "60736             0  \n",
       "60737             0  \n",
       "\n",
       "[60738 rows x 6 columns]"
      ]
     },
     "execution_count": 3,
     "metadata": {},
     "output_type": "execute_result"
    }
   ],
   "source": [
    "df = pd.read_csv('../data/fiona-aita-verdicts.csv',)\n",
    "df = df.drop(['Unnamed: 0.1','Unnamed: 0'],axis=1)\n",
    "df"
   ]
  },
  {
   "cell_type": "code",
   "execution_count": 22,
   "id": "e41b946e",
   "metadata": {},
   "outputs": [
    {
     "data": {
      "text/plain": [
       "442"
      ]
     },
     "execution_count": 22,
     "metadata": {},
     "output_type": "execute_result"
    }
   ],
   "source": [
    "df['story'].str.contains(\":\\)\").sum()\n",
    "# emoticons"
   ]
  },
  {
   "cell_type": "code",
   "execution_count": 7,
   "id": "61161de2",
   "metadata": {},
   "outputs": [],
   "source": [
    "for c in ['story','top_comment','rand_comment']:\n",
    "    df[c] = df[c].str.replace('\\n\\n',' ')\n",
    "    df[c] = df[c].str.replace('\\n',' ')"
   ]
  },
  {
   "cell_type": "code",
   "execution_count": 13,
   "id": "15db2ca8",
   "metadata": {},
   "outputs": [
    {
     "name": "stdout",
     "output_type": "stream",
     "text": [
      "story 1748.84 938.5 100 29721\n",
      "top_comment 247.1 233.2 1 4877\n",
      "rand_comment 410.56 563.49 1 9344\n"
     ]
    }
   ],
   "source": [
    "# length of \n",
    "for c in ['story','top_comment','rand_comment']:\n",
    "    df[c+'_len'] = df[c].apply(len)\n",
    "    print(c,round(df[c+'_len'].mean(),2),round(df[c+'_len'].std(),2),round(df[c+'_len'].min(),2),round(df[c+'_len'].max(),2))\n",
    "    \n",
    "# use a longformer for the story??"
   ]
  },
  {
   "cell_type": "code",
   "execution_count": 25,
   "id": "6ec6783b",
   "metadata": {},
   "outputs": [
    {
     "data": {
      "text/plain": [
       "0        There is nothing wrong with your original comm...\n",
       "1        Yep.  You're the asshole.  If you want to make...\n",
       "2        Youre both the asshole. He is clearly an assho...\n",
       "3        Not at all.  He's interrupting as many people ...\n",
       "4        Your wife was the asshole in this case. I know...\n",
       "                               ...                        \n",
       "60733    NTA There is no \"no black to a wedding\" rule. ...\n",
       "60734    NTA. They're being assholes and disgusting. Yo...\n",
       "60735    YTA   You need a large glass of grow the fuck ...\n",
       "60736    NTA I can’t even believe this is real it’s so ...\n",
       "60737    Record it happening and let the internet deal ...\n",
       "Length: 60738, dtype: object"
      ]
     },
     "execution_count": 25,
     "metadata": {},
     "output_type": "execute_result"
    }
   ],
   "source": [
    "df.apply(lambda x: x['top_comment']+x['story'],axis=1)"
   ]
  }
 ],
 "metadata": {
  "kernelspec": {
   "display_name": "Python 3 (ipykernel)",
   "language": "python",
   "name": "python3"
  },
  "language_info": {
   "codemirror_mode": {
    "name": "ipython",
    "version": 3
   },
   "file_extension": ".py",
   "mimetype": "text/x-python",
   "name": "python",
   "nbconvert_exporter": "python",
   "pygments_lexer": "ipython3",
   "version": "3.10.4"
  }
 },
 "nbformat": 4,
 "nbformat_minor": 5
}
